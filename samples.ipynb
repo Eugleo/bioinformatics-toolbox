{
 "cells": [
  {
   "cell_type": "code",
   "execution_count": 88,
   "metadata": {
    "pycharm": {
     "name": "#%%\n"
    }
   },
   "outputs": [
    {
     "output_type": "execute_result",
     "data": {
      "text/plain": [
       "<module 'toolbox.pdb' from '/Users/eugen/code/bioinformatics-toolbox/toolbox/pdb.py'>"
      ]
     },
     "metadata": {},
     "execution_count": 88
    }
   ],
   "source": [
    "import importlib\n",
    "\n",
    "importlib.reload(toolbox.fasta)\n",
    "importlib.reload(toolbox.hamming)\n",
    "importlib.reload(toolbox.alignment)\n",
    "importlib.reload(toolbox.pdb)"
   ]
  },
  {
   "cell_type": "code",
   "execution_count": 2,
   "metadata": {},
   "outputs": [],
   "source": [
    "from os.path import join\n",
    "\n",
    "DATA_FOLDER = \"sample_data\""
   ]
  },
  {
   "cell_type": "markdown",
   "metadata": {
    "pycharm": {
     "name": "#%% md\n"
    }
   },
   "source": [
    "## FASTA\n",
    "\n",
    "We can load the fasta file like this"
   ]
  },
  {
   "cell_type": "code",
   "execution_count": 33,
   "metadata": {
    "pycharm": {
     "name": "#%%\n"
    }
   },
   "outputs": [
    {
     "output_type": "execute_result",
     "data": {
      "text/plain": [
       "Sequence(description='sp|P83673|LYS1_CRAVI Lysozyme 1 OS=Crassostrea virginica OX=6565 GN=lysoz1 PE=1 SV=3', name='sp|P83673|LYS1_CRAVI', sequence='MNGLILFCAVVFATAVCTYGSDAPCLRAGGRCQHDSITCSGRYRTGLCSGGVRRRCCVPSSSNSGSFSTGMVSQQCLRCICNVESGCRPIGCHWDVNSDSCGYFQIKRAYWIDCGSPGGDWQTCANNLACSSRCVQAYMARYHRRSGCSNSCESFARIHNGGPRGCRNSNTEGYWRRVQAQGCN')"
      ]
     },
     "metadata": {},
     "execution_count": 33
    }
   ],
   "source": [
    "import toolbox.fasta\n",
    "\n",
    "sequences = toolbox.fasta.parse(join(DATA_FOLDER, \"test.fasta\"))\n",
    "sequences = list(sequences)\n",
    "seq = sequences[0]\n",
    "seq"
   ]
  },
  {
   "cell_type": "markdown",
   "metadata": {
    "pycharm": {
     "name": "#%% md\n"
    }
   },
   "source": [
    "We can access the name of the sequence..\n"
   ]
  },
  {
   "cell_type": "code",
   "execution_count": 34,
   "metadata": {
    "pycharm": {
     "name": "#%%\n"
    }
   },
   "outputs": [
    {
     "output_type": "execute_result",
     "data": {
      "text/plain": [
       "'sp|P83673|LYS1_CRAVI'"
      ]
     },
     "metadata": {},
     "execution_count": 34
    }
   ],
   "source": [
    "seq.name"
   ]
  },
  {
   "cell_type": "code",
   "execution_count": null,
   "metadata": {},
   "outputs": [],
   "source": [
    "...its description..."
   ]
  },
  {
   "cell_type": "code",
   "execution_count": 35,
   "metadata": {},
   "outputs": [
    {
     "output_type": "execute_result",
     "data": {
      "text/plain": [
       "'sp|P83673|LYS1_CRAVI Lysozyme 1 OS=Crassostrea virginica OX=6565 GN=lysoz1 PE=1 SV=3'"
      ]
     },
     "metadata": {},
     "execution_count": 35
    }
   ],
   "source": [
    "seq.description"
   ]
  },
  {
   "source": [
    "...its content..."
   ],
   "cell_type": "markdown",
   "metadata": {}
  },
  {
   "cell_type": "code",
   "execution_count": 37,
   "metadata": {},
   "outputs": [
    {
     "output_type": "execute_result",
     "data": {
      "text/plain": [
       "'MNGLILFCAVVFATAVCTYGSDAPCLRAGGRCQHDSITCSGRYRTGLCSGGVRRRCCVPSSSNSGSFSTGMVSQQCLRCICNVESGCRPIGCHWDVNSDSCGYFQIKRAYWIDCGSPGGDWQTCANNLACSSRCVQAYMARYHRRSGCSNSCESFARIHNGGPRGCRNSNTEGYWRRVQAQGCN'"
      ]
     },
     "metadata": {},
     "execution_count": 37
    }
   ],
   "source": [
    "seq.sequence"
   ]
  },
  {
   "source": [
    "...and its length."
   ],
   "cell_type": "markdown",
   "metadata": {}
  },
  {
   "source": [
    "len(seq)"
   ],
   "cell_type": "code",
   "metadata": {},
   "execution_count": 38,
   "outputs": [
    {
     "output_type": "execute_result",
     "data": {
      "text/plain": [
       "184"
      ]
     },
     "metadata": {},
     "execution_count": 38
    }
   ]
  },
  {
   "source": [
    "The `Sequence` is also an `Iterable` and a `Mapping`, so we can loop through it and access the residues by index."
   ],
   "cell_type": "markdown",
   "metadata": {}
  },
  {
   "cell_type": "code",
   "execution_count": 40,
   "metadata": {},
   "outputs": [
    {
     "output_type": "stream",
     "name": "stdout",
     "text": [
      "V\nF\nA\nT\nA\n"
     ]
    }
   ],
   "source": [
    "for r in seq[10:15]:\n",
    "    print(r.upper())"
   ]
  },
  {
   "cell_type": "markdown",
   "metadata": {
    "pycharm": {
     "name": "#%% md\n"
    }
   },
   "source": [
    "## Hamming distance\n",
    "\n",
    "Let's try the hamming distance on simple strings first, so that we can check it's working correctly."
   ]
  },
  {
   "cell_type": "code",
   "execution_count": 7,
   "metadata": {
    "pycharm": {
     "name": "#%%\n"
    }
   },
   "outputs": [
    {
     "output_type": "stream",
     "name": "stdout",
     "text": [
      "The distance between ABCD and CBDD is 2\nThe distance between HOKSZA and HOKZSA is 2\nThe distance between WYBITUL and WYTUBIL is 4\n"
     ]
    }
   ],
   "source": [
    "import toolbox.hamming\n",
    "\n",
    "for a, b in [(\"ABCD\", \"CBDD\"), (\"HOKSZA\", \"HOKZSA\"), (\"WYBITUL\", \"WYTUBIL\")]:\n",
    "    print(f\"The distance between {a} and {b} is {toolbox.hamming.distance (a, b)}\")"
   ]
  },
  {
   "cell_type": "markdown",
   "metadata": {
    "pycharm": {
     "name": "#%% md\n"
    }
   },
   "source": [
    "Now, let's use the sequences we loaded above (notice how the function works for strings as well as sequences). Firstly the distance of a sequence to itself should be 0..."
   ]
  },
  {
   "cell_type": "code",
   "execution_count": 8,
   "metadata": {
    "pycharm": {
     "name": "#%%\n"
    }
   },
   "outputs": [
    {
     "output_type": "execute_result",
     "data": {
      "text/plain": [
       "0"
      ]
     },
     "metadata": {},
     "execution_count": 8
    }
   ],
   "source": [
    "toolbox.hamming.distance(seq, seq)"
   ]
  },
  {
   "cell_type": "markdown",
   "metadata": {
    "pycharm": {
     "name": "#%% md\n"
    }
   },
   "source": [
    "Secondly, we can only measure distances between equally sized sequences. Let's pull up the other sequence from the fasta file, and compute its distance to the first one."
   ]
  },
  {
   "cell_type": "code",
   "execution_count": 41,
   "metadata": {
    "pycharm": {
     "name": "#%%\n"
    }
   },
   "outputs": [
    {
     "output_type": "error",
     "ename": "ValueError",
     "evalue": "The sequences should have identical lengths, but the lengths are 184, 607",
     "traceback": [
      "\u001b[0;31m---------------------------------------------------------------------------\u001b[0m",
      "\u001b[0;31mValueError\u001b[0m                                Traceback (most recent call last)",
      "\u001b[0;32m<ipython-input-41-488ac4b794ac>\u001b[0m in \u001b[0;36m<module>\u001b[0;34m\u001b[0m\n\u001b[1;32m      1\u001b[0m \u001b[0mseq2\u001b[0m \u001b[0;34m=\u001b[0m \u001b[0msequences\u001b[0m\u001b[0;34m[\u001b[0m\u001b[0;36m1\u001b[0m\u001b[0;34m]\u001b[0m\u001b[0;34m\u001b[0m\u001b[0;34m\u001b[0m\u001b[0m\n\u001b[0;32m----> 2\u001b[0;31m \u001b[0mtoolbox\u001b[0m\u001b[0;34m.\u001b[0m\u001b[0mhamming\u001b[0m\u001b[0;34m.\u001b[0m\u001b[0mdistance\u001b[0m\u001b[0;34m(\u001b[0m\u001b[0mseq\u001b[0m\u001b[0;34m,\u001b[0m \u001b[0mseq2\u001b[0m\u001b[0;34m)\u001b[0m\u001b[0;34m\u001b[0m\u001b[0;34m\u001b[0m\u001b[0m\n\u001b[0m",
      "\u001b[0;32m~/code/bioinformatics-toolbox/toolbox/hamming.py\u001b[0m in \u001b[0;36mdistance\u001b[0;34m(s1, s2)\u001b[0m\n\u001b[1;32m      4\u001b[0m \u001b[0;32mdef\u001b[0m \u001b[0mdistance\u001b[0m\u001b[0;34m(\u001b[0m\u001b[0ms1\u001b[0m\u001b[0;34m:\u001b[0m \u001b[0mIterable\u001b[0m\u001b[0;34m,\u001b[0m \u001b[0ms2\u001b[0m\u001b[0;34m:\u001b[0m \u001b[0mIterable\u001b[0m\u001b[0;34m)\u001b[0m \u001b[0;34m->\u001b[0m \u001b[0mint\u001b[0m\u001b[0;34m:\u001b[0m\u001b[0;34m\u001b[0m\u001b[0;34m\u001b[0m\u001b[0m\n\u001b[1;32m      5\u001b[0m     \u001b[0;32mif\u001b[0m \u001b[0mlen\u001b[0m\u001b[0;34m(\u001b[0m\u001b[0ms1\u001b[0m\u001b[0;34m)\u001b[0m \u001b[0;34m!=\u001b[0m \u001b[0mlen\u001b[0m\u001b[0;34m(\u001b[0m\u001b[0ms2\u001b[0m\u001b[0;34m)\u001b[0m\u001b[0;34m:\u001b[0m\u001b[0;34m\u001b[0m\u001b[0;34m\u001b[0m\u001b[0m\n\u001b[0;32m----> 6\u001b[0;31m         raise ValueError(\n\u001b[0m\u001b[1;32m      7\u001b[0m             \u001b[0;34mf\"The sequences should have identical lengths, but the lengths are {len(s1)}, {len(s2)}\"\u001b[0m\u001b[0;34m\u001b[0m\u001b[0;34m\u001b[0m\u001b[0m\n\u001b[1;32m      8\u001b[0m         )\n",
      "\u001b[0;31mValueError\u001b[0m: The sequences should have identical lengths, but the lengths are 184, 607"
     ]
    }
   ],
   "source": [
    "seq2 = sequences[1]\n",
    "toolbox.hamming.distance(seq, seq2)"
   ]
  },
  {
   "cell_type": "markdown",
   "metadata": {
    "pycharm": {
     "name": "#%% md\n"
    }
   },
   "source": [
    "## Alignment\n",
    "\n",
    "The `align` function returns a dictionary with the Levenshtein edit distance and the alignment itself.\n",
    "\n",
    "Let's start with simple strings again..."
   ]
  },
  {
   "cell_type": "code",
   "execution_count": 51,
   "metadata": {
    "pycharm": {
     "name": "#%%\n"
    }
   },
   "outputs": [
    {
     "output_type": "execute_result",
     "data": {
      "text/plain": [
       "3"
      ]
     },
     "metadata": {},
     "execution_count": 51
    }
   ],
   "source": [
    "import toolbox.alignment\n",
    "\n",
    "A = \"clock\"\n",
    "B = \"lacks\"\n",
    "\n",
    "res = toolbox.alignment.align(A, B)\n",
    "res[\"distance\"]"
   ]
  },
  {
   "cell_type": "markdown",
   "metadata": {
    "pycharm": {
     "name": "#%% md\n"
    }
   },
   "source": [
    "...and to view the alignment(s):"
   ]
  },
  {
   "cell_type": "code",
   "execution_count": 52,
   "metadata": {
    "pycharm": {
     "name": "#%%\n"
    }
   },
   "outputs": [
    {
     "output_type": "stream",
     "name": "stdout",
     "text": [
      "clock-\n-lacks\n"
     ]
    }
   ],
   "source": [
    "for s1, s2 in res[\"alignments\"]:\n",
    "    print(\"\".join(s1))\n",
    "    print(\"\".join(s2))"
   ]
  },
  {
   "cell_type": "markdown",
   "metadata": {},
   "source": [
    "If there's more optimal alignments, we get all of them."
   ]
  },
  {
   "cell_type": "code",
   "execution_count": 54,
   "metadata": {
    "pycharm": {
     "name": "#%%\n"
    }
   },
   "outputs": [
    {
     "output_type": "stream",
     "name": "stdout",
     "text": [
      "ABBBD\nABV-D\n\nABBBBBD\nAB-VV-D\n\n"
     ]
    }
   ],
   "source": [
    "res = toolbox.alignment.align(\"ABBBD\", \"ABVD\")\n",
    "for s1, s2 in res[\"alignments\"]:\n",
    "    print(\"\".join(s1))\n",
    "    print(\"\".join(s2))\n",
    "    print()"
   ]
  },
  {
   "cell_type": "markdown",
   "metadata": {
    "pycharm": {
     "name": "#%% md\n"
    }
   },
   "source": [
    "And it works for `Sequence` objects, too! Let's switch of the backtracking, though, to save some time.\n",
    "\n"
   ]
  },
  {
   "cell_type": "code",
   "execution_count": 55,
   "metadata": {},
   "outputs": [
    {
     "output_type": "execute_result",
     "data": {
      "text/plain": [
       "{'distance': 511}"
      ]
     },
     "metadata": {},
     "execution_count": 55
    }
   ],
   "source": [
    "toolbox.alignment.align(seq, seq2, skip_backtrack=True)"
   ]
  },
  {
   "source": [
    "## PDB Parser\n",
    "\n",
    "Next up is parser for PDB files. The code is just a thin layer over `Bio.PDB`, and we can work directly with its objects, to obtain the whole model..."
   ],
   "cell_type": "markdown",
   "metadata": {}
  },
  {
   "cell_type": "code",
   "execution_count": 89,
   "metadata": {},
   "outputs": [
    {
     "output_type": "stream",
     "name": "stderr",
     "text": [
      "/Users/eugen/Library/Caches/pypoetry/virtualenvs/pythonproject-R5KYgqiK-py3.9/lib/python3.9/site-packages/Bio/PDB/StructureBuilder.py:89: PDBConstructionWarning: WARNING: Chain A is discontinuous at line 18563.\n  warnings.warn(\n/Users/eugen/Library/Caches/pypoetry/virtualenvs/pythonproject-R5KYgqiK-py3.9/lib/python3.9/site-packages/Bio/PDB/StructureBuilder.py:89: PDBConstructionWarning: WARNING: Chain B is discontinuous at line 18566.\n  warnings.warn(\n/Users/eugen/Library/Caches/pypoetry/virtualenvs/pythonproject-R5KYgqiK-py3.9/lib/python3.9/site-packages/Bio/PDB/StructureBuilder.py:89: PDBConstructionWarning: WARNING: Chain A is discontinuous at line 18573.\n  warnings.warn(\n/Users/eugen/Library/Caches/pypoetry/virtualenvs/pythonproject-R5KYgqiK-py3.9/lib/python3.9/site-packages/Bio/PDB/StructureBuilder.py:89: PDBConstructionWarning: WARNING: Chain B is discontinuous at line 18596.\n  warnings.warn(\n"
     ]
    },
    {
     "output_type": "execute_result",
     "data": {
      "text/plain": [
       "<Structure id=3v03>"
      ]
     },
     "metadata": {},
     "execution_count": 89
    }
   ],
   "source": [
    "import toolbox.pdb\n",
    "\n",
    "bsa = toolbox.pdb.Structure(\"3v03\", join(DATA_FOLDER, \"pdb3v03.pdb\"))\n",
    "\n",
    "bsa.structure"
   ]
  },
  {
   "source": [
    "...or all of the chains..."
   ],
   "cell_type": "markdown",
   "metadata": {}
  },
  {
   "cell_type": "code",
   "execution_count": 90,
   "metadata": {},
   "outputs": [
    {
     "output_type": "execute_result",
     "data": {
      "text/plain": [
       "[<Chain id=A>, <Chain id=B>]"
      ]
     },
     "metadata": {},
     "execution_count": 90
    }
   ],
   "source": [
    "list(bsa.structure.get_chains())"
   ]
  },
  {
   "source": [
    "...or all of its residues..."
   ],
   "cell_type": "markdown",
   "metadata": {}
  },
  {
   "cell_type": "code",
   "execution_count": 91,
   "metadata": {},
   "outputs": [
    {
     "output_type": "execute_result",
     "data": {
      "text/plain": [
       "[<Residue HIS het=  resseq=3 icode= >,\n",
       " <Residue LYS het=  resseq=4 icode= >,\n",
       " <Residue SER het=  resseq=5 icode= >,\n",
       " <Residue GLU het=  resseq=6 icode= >,\n",
       " <Residue ILE het=  resseq=7 icode= >,\n",
       " <Residue ALA het=  resseq=8 icode= >,\n",
       " <Residue HIS het=  resseq=9 icode= >,\n",
       " <Residue ARG het=  resseq=10 icode= >,\n",
       " <Residue PHE het=  resseq=11 icode= >,\n",
       " <Residue LYS het=  resseq=12 icode= >]"
      ]
     },
     "metadata": {},
     "execution_count": 91
    }
   ],
   "source": [
    "list(bsa.structure.get_residues())[:10] # truncated"
   ]
  },
  {
   "source": [
    "or finally, all of its atoms."
   ],
   "cell_type": "markdown",
   "metadata": {}
  },
  {
   "cell_type": "code",
   "execution_count": 92,
   "metadata": {},
   "outputs": [
    {
     "output_type": "execute_result",
     "data": {
      "text/plain": [
       "[<Atom N>,\n",
       " <Atom CA>,\n",
       " <Atom C>,\n",
       " <Atom O>,\n",
       " <Atom CB>,\n",
       " <Atom N>,\n",
       " <Atom CA>,\n",
       " <Atom C>,\n",
       " <Atom O>,\n",
       " <Atom CB>]"
      ]
     },
     "metadata": {},
     "execution_count": 92
    }
   ],
   "source": [
    "list(bsa.structure.get_atoms())[:10] # truncated"
   ]
  },
  {
   "source": [
    "We can get a general overview of the structure by looking at its `summary`."
   ],
   "cell_type": "markdown",
   "metadata": {}
  },
  {
   "cell_type": "code",
   "execution_count": 93,
   "metadata": {},
   "outputs": [
    {
     "output_type": "execute_result",
     "data": {
      "text/plain": [
       "{'models:': 1, 'chains': 2, 'residues': 1211, 'atoms': 8810}"
      ]
     },
     "metadata": {},
     "execution_count": 93
    }
   ],
   "source": [
    "bsa.summary"
   ]
  },
  {
   "source": [
    "We can also compute its spatial width."
   ],
   "cell_type": "markdown",
   "metadata": {}
  },
  {
   "cell_type": "code",
   "execution_count": 94,
   "metadata": {},
   "outputs": [
    {
     "output_type": "execute_result",
     "data": {
      "text/plain": [
       "146.49719889539784"
      ]
     },
     "metadata": {},
     "execution_count": 94
    }
   ],
   "source": [
    "bsa.width"
   ]
  },
  {
   "source": [
    "Last but not least, we can show the neighbours of a HETATM ligand in the structure (or any atom at all, in fact). \n",
    "Either the neighbouring residues..."
   ],
   "cell_type": "markdown",
   "metadata": {}
  },
  {
   "cell_type": "code",
   "execution_count": 97,
   "metadata": {},
   "outputs": [
    {
     "output_type": "execute_result",
     "data": {
      "text/plain": [
       "[<Residue PHE het=  resseq=11 icode= >,\n",
       " <Residue GLU het=  resseq=6 icode= >,\n",
       " <Residue ILE het=  resseq=7 icode= >,\n",
       " <Residue HIS het=  resseq=9 icode= >,\n",
       " <Residue ARG het=  resseq=10 icode= >]"
      ]
     },
     "metadata": {},
     "execution_count": 97
    }
   ],
   "source": [
    "atom = bsa.structure[0]['A'][10]['CB']\n",
    "bsa.search_around(atom, radius=4, level=\"R\")"
   ]
  },
  {
   "source": [
    "...or neighbouting atoms..."
   ],
   "cell_type": "markdown",
   "metadata": {}
  },
  {
   "cell_type": "code",
   "execution_count": 99,
   "metadata": {},
   "outputs": [
    {
     "output_type": "execute_result",
     "data": {
      "text/plain": [
       "[<Atom NE>,\n",
       " <Atom O>,\n",
       " <Atom CD>,\n",
       " <Atom N>,\n",
       " <Atom CA>,\n",
       " <Atom CG>,\n",
       " <Atom CB>,\n",
       " <Atom O>,\n",
       " <Atom C>,\n",
       " <Atom C>,\n",
       " <Atom O>,\n",
       " <Atom N>]"
      ]
     },
     "metadata": {},
     "execution_count": 99
    }
   ],
   "source": [
    "bsa.search_around(atom, radius=4, level=\"A\")"
   ]
  },
  {
   "source": [
    "...or alteratively neighbouring chains, or models, by passing `\"C\"` and `\"M\"` as `level`, repsectively. That doesn't seem particularly useful to me, but it's possile nonetheless."
   ],
   "cell_type": "markdown",
   "metadata": {}
  },
  {
   "cell_type": "code",
   "execution_count": null,
   "metadata": {},
   "outputs": [],
   "source": []
  }
 ],
 "metadata": {
  "kernelspec": {
   "display_name": "Python 3",
   "language": "python",
   "name": "python3"
  }
 },
 "nbformat": 4,
 "nbformat_minor": 1
}